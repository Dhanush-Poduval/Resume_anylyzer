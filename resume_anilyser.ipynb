{
  "nbformat": 4,
  "nbformat_minor": 0,
  "metadata": {
    "colab": {
      "provenance": [],
      "authorship_tag": "ABX9TyNbTBEeK33BudDqzQcggzOz",
      "include_colab_link": true
    },
    "kernelspec": {
      "name": "python3",
      "display_name": "Python 3"
    },
    "language_info": {
      "name": "python"
    }
  },
  "cells": [
    {
      "cell_type": "markdown",
      "metadata": {
        "id": "view-in-github",
        "colab_type": "text"
      },
      "source": [
        "<a href=\"https://colab.research.google.com/github/Dhanush-Poduval/Resume_anylyzer/blob/main/resume_anilyser.ipynb\" target=\"_parent\"><img src=\"https://colab.research.google.com/assets/colab-badge.svg\" alt=\"Open In Colab\"/></a>"
      ]
    },
    {
      "cell_type": "code",
      "execution_count": null,
      "metadata": {
        "collapsed": true,
        "id": "kzLYEV0CHN-1"
      },
      "outputs": [],
      "source": [
        "!pip install PyPDF2 python-docx spacy wordcloud\n",
        "!pip install nltk\n",
        "!python -m spacy download en_core_web_sm"
      ]
    },
    {
      "cell_type": "code",
      "source": [
        "from PyPDF2 import PdfReader\n",
        "import spacy\n",
        "import re\n",
        "\n",
        "reader = PdfReader(\"Resume_Latest.pdf\")\n",
        "text = \"\"\n",
        "for i, page in enumerate(reader.pages):\n",
        "    page_text = page.extract_text()\n",
        "    text += page_text + \"\\n\"\n",
        "    print(text)\n",
        "nlp = spacy.load(\"en_core_web_sm\")\n",
        "doc = nlp(text)\n",
        "\n",
        "clean_tokens = [token.text for token in doc if not token.is_stop and not token.is_punct]\n",
        "\n",
        "\n",
        "programming_languages = [\n",
        "\n",
        "    'Python', 'Java', 'JavaScript', 'C', 'C++', 'C#', 'Ruby', 'PHP',\n",
        "    'Swift', 'Kotlin', 'Go', 'TypeScript', 'Dart', 'Rust', 'Scala', 'Objective-C',\n",
        "    'HTML', 'CSS', 'XML', 'SQL', 'JSON', 'JSX', 'SASS', 'SCSS', 'Less',\n",
        "    'R', 'MATLAB', 'Julia', 'SAS', 'Bash', 'Shell', 'Perl', 'Lisp', 'Haskell',\n",
        "    'F#', 'Erlang', 'Ada', 'Fortran', 'COBOL', 'Prolog', 'Scheme',\n",
        "    'VBA', 'Assembly', 'Solidity', 'Apex', 'Elixir', 'Groovy', 'Crystal', 'Elm'\n",
        "]\n",
        "found_languages = [token for token in clean_tokens if token in programming_languages]\n",
        "\n",
        "percentages = re.findall(r'\\b\\d{1,3}(?:\\.\\d+)?\\s?%', text)\n",
        "cgpas = re.findall(r'\\b\\d\\.\\d{1,2}/10\\b', text)\n",
        "\n",
        "entities = [(ent.text, ent.label_) for ent in doc.ents if ent.label_ in ['PERSON','ORG','DATE','GPE']]\n",
        "\n",
        "\n",
        "\n",
        "tech_terms = ['Python','JavaScript','HTML','CSS','ReactJS','NodeJS','Flask','TensorFlow',\n",
        "              'Data Structures','Design and Analysis of Algorithms']\n",
        "\n",
        "skills=[token for token in clean_tokens if token in programming_languages]\n",
        "\n",
        "companies = []\n",
        "for ent_text, ent_label in entities:\n",
        "    if ent_label == 'ORG':\n",
        "        if not any(term in ent_text for term in tech_terms):\n",
        "            companies.append(ent_text)\n",
        "\n",
        "\n",
        "\n",
        "resume_data = {\n",
        "    'Name': [ent[0] for ent in entities if ent[1]=='PERSON'],\n",
        "    'Companies': companies,\n",
        "    'Dates': [ent[0] for ent in entities if ent[1]=='DATE'],\n",
        "    'Languages': found_languages,\n",
        "    'Percentages': percentages,\n",
        "    'CGPAs': cgpas\n",
        "}\n",
        "print(resume_data)\n",
        "\n",
        "\n",
        "\n",
        "\n",
        "\n",
        "\n",
        "\n"
      ],
      "metadata": {
        "id": "GHHg69-0JXra",
        "colab": {
          "base_uri": "https://localhost:8080/"
        },
        "outputId": "9b90762b-4cd3-44a4-f46b-3e7caec2e875"
      },
      "execution_count": 3,
      "outputs": [
        {
          "output_type": "stream",
          "name": "stdout",
          "text": [
            "Dhruv Poduval\n",
            "/githubhttps://github.com/dhruvpoduval |/linkedinlinkedin.com/in/dhruv-poduval-02aab2261 |/envel⌢pe\n",
            "dhruvpoduval@gmail.com\n",
            "Education\n",
            "PES University 2021-2025\n",
            "B.Tech Computer Science Current GPA: 8.52/10\n",
            "National Public School 2019-2021\n",
            "12th% - 96.8%\n",
            "Coursework\n",
            "Courses: Data Structures and Applications, Design and Analysis of Algorithms, Machine Intelligence,\n",
            "Database Management Systems, Data Analytics, Database Technologies, Object Oriented Design and\n",
            "Analysis, Generic Programming in C++.\n",
            "Awards: 2x recipient of the MRD Scholarship for placing in the top 20% at the end of the semester.\n",
            "Skills\n",
            "Languages : C/C++(intermediate), Python, JavaScript(basic), HTML/CSS(basic), Java(basic), MySQL, MongoDB\n",
            "Tools : Git/GitHub, VS Code, Docker\n",
            "Libraries and Frameworks : ReactJS, NodeJS, Express, Flask, REST API’s\n",
            "Experience\n",
            "VuNet Systems |Software Engineering Intern Jan – Aug 2025\n",
            "•Engineered modular UI automation test suites using Selenium andPlaywright , validating critical workflows in a\n",
            "distributed cloud-native observability platform deployed on Kubernetes .\n",
            "•Automated observability data pipeline setup, including enabling telemetry sources, installing agents, and validating\n",
            "end-to-end data flow via Kafka topics.\n",
            "•Contributed to infrastructure validation by simulating user-driven installation and deployment flows on VMs,\n",
            "enhancing release stability across environments.\n",
            "•Collaborated with backend and DevOps teams to debug pod failures, analyze Helm-based service orchestration, and\n",
            "ensure alignment of UI behavior with backend service states.\n",
            "•Tested and enhanced an AI-powered in-product assistant by validating NLP query handling, response correctness,\n",
            "and underlying intent-resolution mechanisms.\n",
            "•Integrated test flows into CI/CD pipelines (Jenkins), ensuring automation coverage for new features and\n",
            "improving feedback cycles during product releases.\n",
            "Projects\n",
            "File Metadata Analyzer |C++, Templates, Generic Programming\n",
            "•Built a File Metadata Analyzer using templates and generic programming in C++.\n",
            "•Applied the concept of templates, including variadic templates and template specialization, to read information\n",
            "about different kinds of files and display the corresponding metadata.\n",
            "•Also applied concepts and constraints in the project to restrict template behavior based in file type.\n",
            "Stock Portfolio Management System |Python, Flask, API(Finnhub), MySQL, Database Management\n",
            "•Developed a basic stock portfolio management system using python Flask, and stock API’s to get real time data\n",
            "about prices of stock.\n",
            "•The system allowed users to buy and sell stocks based on the prices of the stock at that particular time, and see\n",
            "how profitable the transaction was. All information was stored in a database.\n",
            "•The API was used to get real time stock prices. Using these prices, graphical representations were provided for the\n",
            "stock on a yearly, monthly, or daily basis.\n",
            "Sentiment Analysis using Deep Learning |TensorFlow, python, cv2, VS Code\n",
            "•Engineered a system that could detect emotion from an image of the face.\n",
            "•Used convolution neural networks with TensorFlow to train a model on a set of over 800 images, which then\n",
            "detected 7 different classes of emotion.\n",
            "•Added a functionality where the system could access a webcam and detect emotion in real time.\n",
            "\n",
            "{'Name': ['Dhruv Poduval', 'Kafka', 'Jenkins', 'Templates'], 'Companies': ['PES University', 'B.Tech Computer Science Current GPA', 'National Public School', 'Database Management Systems', 'Data Analytics', 'Generic Programming', 'the MRD Scholarship', 'Docker\\nLibraries', 'API', 'VuNet Systems', 'UI', 'Kubernetes', 'observability data pipeline setup', 'DevOps', 'UI', 'NLP', 'CI', 'Generic Programming', 'MySQL, Database Management', 'API', 'API'], 'Dates': ['2021-2025', 'the end of the semester', '2025', 'monthly', 'daily'], 'Languages': ['C++', 'C', 'Python', 'HTML', 'C++'], 'Percentages': ['96.8%', '20%'], 'CGPAs': ['8.52/10']}\n"
          ]
        }
      ]
    },
    {
      "cell_type": "code",
      "source": [],
      "metadata": {
        "id": "yBCJjbTOqbT0"
      },
      "execution_count": null,
      "outputs": []
    }
  ]
}